{
 "cells": [
  {
   "cell_type": "code",
   "execution_count": null,
   "id": "7f91677e",
   "metadata": {},
   "outputs": [],
   "source": [
    "# program to print pattern\n",
    "\n",
    "*\n",
    "* *\n",
    "* * *\n",
    "* * * *\n",
    "* * * * *"
   ]
  },
  {
   "cell_type": "code",
   "execution_count": 1,
   "id": "d3af2b89",
   "metadata": {},
   "outputs": [
    {
     "name": "stdout",
     "output_type": "stream",
     "text": [
      "*\n",
      "\n",
      "**\n",
      "\n",
      "***\n",
      "\n",
      "****\n",
      "\n",
      "*****\n",
      "\n"
     ]
    }
   ],
   "source": [
    "row = 5\n",
    "for i in range(1,row+1):\n",
    "    for j in range(i):\n",
    "        print(\"*\", end=\"\")\n",
    "    print(\"\\n\")"
   ]
  },
  {
   "cell_type": "code",
   "execution_count": null,
   "id": "df30e1b9",
   "metadata": {},
   "outputs": [],
   "source": [
    "1\n",
    "1 2\n",
    "1 2 3\n",
    "1 2 3 4\n",
    "1 2 3 4 5"
   ]
  },
  {
   "cell_type": "code",
   "execution_count": 3,
   "id": "f9bd5686",
   "metadata": {},
   "outputs": [
    {
     "name": "stdout",
     "output_type": "stream",
     "text": [
      "1\n",
      "\n",
      "12\n",
      "\n",
      "123\n",
      "\n",
      "1234\n",
      "\n",
      "12345\n",
      "\n"
     ]
    }
   ],
   "source": [
    "row = 5\n",
    "for i in range(1,row+1):\n",
    "    for j in range(i):\n",
    "        #print(j)\n",
    "        print(j+1, end=\"\")\n",
    "    print(\"\\n\")"
   ]
  },
  {
   "cell_type": "code",
   "execution_count": null,
   "id": "5decc0fe",
   "metadata": {},
   "outputs": [],
   "source": [
    "* * * * *\n",
    "* * * *\n",
    "* * *\n",
    "* *\n",
    "*"
   ]
  },
  {
   "cell_type": "code",
   "execution_count": 4,
   "id": "78c53a46",
   "metadata": {},
   "outputs": [
    {
     "name": "stdout",
     "output_type": "stream",
     "text": [
      "*  *  *  *  *  \n",
      "\n",
      "*  *  *  *  \n",
      "\n",
      "*  *  *  \n",
      "\n",
      "*  *  \n",
      "\n",
      "*  \n",
      "\n"
     ]
    }
   ],
   "source": [
    "row = 5\n",
    "for i in range(row,0, -1):\n",
    "    for j in range(i):\n",
    "        #print(j)\n",
    "        print(\"* \", end=\" \")\n",
    "    print(\"\\n\")"
   ]
  },
  {
   "cell_type": "code",
   "execution_count": null,
   "id": "209d1de5",
   "metadata": {},
   "outputs": [],
   "source": [
    "A\n",
    "AB\n",
    "ABC\n",
    "ABCD\n",
    "ABCD"
   ]
  },
  {
   "cell_type": "code",
   "execution_count": 5,
   "id": "edfba33c",
   "metadata": {},
   "outputs": [
    {
     "name": "stdout",
     "output_type": "stream",
     "text": [
      "A\n",
      "\n",
      "AB\n",
      "\n",
      "ABC\n",
      "\n",
      "ABCD\n",
      "\n",
      "ABCDE\n",
      "\n"
     ]
    }
   ],
   "source": [
    "\n",
    "for i in range (1,6):\n",
    "    for j in range(i):\n",
    "        print(chr(65+j),end='')\n",
    "    print(\"\\n\")"
   ]
  },
  {
   "cell_type": "code",
   "execution_count": null,
   "id": "3caca72d",
   "metadata": {},
   "outputs": [],
   "source": [
    "   * \n",
    "\n",
    "  * * \n",
    "\n",
    " * * * \n",
    "\n",
    "* * * *"
   ]
  },
  {
   "cell_type": "code",
   "execution_count": 6,
   "id": "d3435d89",
   "metadata": {},
   "outputs": [
    {
     "name": "stdout",
     "output_type": "stream",
     "text": [
      "   * \n",
      "\n",
      "  * * \n",
      "\n",
      " * * * \n",
      "\n",
      "* * * * \n",
      "\n"
     ]
    }
   ],
   "source": [
    "row = 4\n",
    "for i in range(1,row+1):\n",
    "    # for loop is for printing blank spaces\n",
    "    for space in range(row-i):\n",
    "        print(\" \", end = '')\n",
    "    # for loop for printing *\n",
    "    for j in range (i):\n",
    "        print(\"* \", end = '')\n",
    "    print(\"\\n\")"
   ]
  },
  {
   "cell_type": "code",
   "execution_count": null,
   "id": "8997f77f",
   "metadata": {},
   "outputs": [],
   "source": [
    "      * \n",
    "\n",
    "    * * * \n",
    "\n",
    "  * * * * * \n",
    "\n",
    "* * * * * * *"
   ]
  },
  {
   "cell_type": "code",
   "execution_count": 7,
   "id": "64e22987",
   "metadata": {},
   "outputs": [
    {
     "name": "stdout",
     "output_type": "stream",
     "text": [
      "      * \n",
      "\n",
      "    * * * \n",
      "\n",
      "  * * * * * \n",
      "\n",
      "* * * * * * * \n",
      "\n"
     ]
    }
   ],
   "source": [
    "row = 4\n",
    "for i in range(1,row+1):\n",
    "    # for loop is for printing blank spaces\n",
    "    for space in range(row-i):\n",
    "        print(\" \", end = ' ')\n",
    "    # for loop for printing *\n",
    "    for j in range (2*i-1):\n",
    "        print(\"* \", end = '')\n",
    "    print(\"\\n\")"
   ]
  }
 ],
 "metadata": {
  "kernelspec": {
   "display_name": "Python 3 (ipykernel)",
   "language": "python",
   "name": "python3"
  },
  "language_info": {
   "codemirror_mode": {
    "name": "ipython",
    "version": 3
   },
   "file_extension": ".py",
   "mimetype": "text/x-python",
   "name": "python",
   "nbconvert_exporter": "python",
   "pygments_lexer": "ipython3",
   "version": "3.9.7"
  }
 },
 "nbformat": 4,
 "nbformat_minor": 5
}
